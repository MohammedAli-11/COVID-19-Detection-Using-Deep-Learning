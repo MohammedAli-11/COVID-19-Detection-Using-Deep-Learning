{
 "cells": [
  {
   "cell_type": "code",
   "execution_count": 1,
   "id": "7729496c",
   "metadata": {
    "_cell_guid": "b1076dfc-b9ad-4769-8c92-a6c4dae69d19",
    "_uuid": "8f2839f25d086af736a60e9eeb907d3b93b6e0e5",
    "execution": {
     "iopub.execute_input": "2022-03-22T16:06:05.147374Z",
     "iopub.status.busy": "2022-03-22T16:06:05.145226Z",
     "iopub.status.idle": "2022-03-22T16:06:05.159718Z",
     "shell.execute_reply": "2022-03-22T16:06:05.158915Z",
     "shell.execute_reply.started": "2022-03-22T15:01:50.493492Z"
    },
    "papermill": {
     "duration": 0.033596,
     "end_time": "2022-03-22T16:06:05.159913",
     "exception": false,
     "start_time": "2022-03-22T16:06:05.126317",
     "status": "completed"
    },
    "tags": []
   },
   "outputs": [],
   "source": [
    "TRAIN_PATH= \"../input/xray-image-dataset-for-covid19-detection-a/Dataset_A\"\n",
    "VAL_PATH = TRAIN_PATH"
   ]
  },
  {
   "cell_type": "code",
   "execution_count": 2,
   "id": "7c16a259",
   "metadata": {
    "execution": {
     "iopub.execute_input": "2022-03-22T16:06:05.186557Z",
     "iopub.status.busy": "2022-03-22T16:06:05.185805Z",
     "iopub.status.idle": "2022-03-22T16:06:11.223254Z",
     "shell.execute_reply": "2022-03-22T16:06:11.222638Z",
     "shell.execute_reply.started": "2022-03-22T15:01:53.444534Z"
    },
    "papermill": {
     "duration": 6.052999,
     "end_time": "2022-03-22T16:06:11.223401",
     "exception": false,
     "start_time": "2022-03-22T16:06:05.170402",
     "status": "completed"
    },
    "tags": []
   },
   "outputs": [],
   "source": [
    "import numpy as np\n",
    "import matplotlib.pyplot as plt\n",
    "import keras\n",
    "from keras.layers import *\n",
    "from keras.models import *\n",
    "from keras.preprocessing import image\n",
    "from keras.models import Sequential"
   ]
  },
  {
   "cell_type": "code",
   "execution_count": 3,
   "id": "05c393af",
   "metadata": {
    "execution": {
     "iopub.execute_input": "2022-03-22T16:06:11.254811Z",
     "iopub.status.busy": "2022-03-22T16:06:11.253792Z",
     "iopub.status.idle": "2022-03-22T16:06:14.544011Z",
     "shell.execute_reply": "2022-03-22T16:06:14.543295Z",
     "shell.execute_reply.started": "2022-03-22T15:02:01.835432Z"
    },
    "papermill": {
     "duration": 3.310958,
     "end_time": "2022-03-22T16:06:14.544194",
     "exception": false,
     "start_time": "2022-03-22T16:06:11.233236",
     "status": "completed"
    },
    "tags": []
   },
   "outputs": [
    {
     "name": "stderr",
     "output_type": "stream",
     "text": [
      "2022-03-22 16:06:11.340031: I tensorflow/stream_executor/cuda/cuda_gpu_executor.cc:937] successful NUMA node read from SysFS had negative value (-1), but there must be at least one NUMA node, so returning NUMA node zero\n",
      "2022-03-22 16:06:11.454416: I tensorflow/stream_executor/cuda/cuda_gpu_executor.cc:937] successful NUMA node read from SysFS had negative value (-1), but there must be at least one NUMA node, so returning NUMA node zero\n",
      "2022-03-22 16:06:11.455584: I tensorflow/stream_executor/cuda/cuda_gpu_executor.cc:937] successful NUMA node read from SysFS had negative value (-1), but there must be at least one NUMA node, so returning NUMA node zero\n",
      "2022-03-22 16:06:11.457599: I tensorflow/core/platform/cpu_feature_guard.cc:142] This TensorFlow binary is optimized with oneAPI Deep Neural Network Library (oneDNN) to use the following CPU instructions in performance-critical operations:  AVX2 FMA\n",
      "To enable them in other operations, rebuild TensorFlow with the appropriate compiler flags.\n",
      "2022-03-22 16:06:11.459116: I tensorflow/stream_executor/cuda/cuda_gpu_executor.cc:937] successful NUMA node read from SysFS had negative value (-1), but there must be at least one NUMA node, so returning NUMA node zero\n",
      "2022-03-22 16:06:11.460158: I tensorflow/stream_executor/cuda/cuda_gpu_executor.cc:937] successful NUMA node read from SysFS had negative value (-1), but there must be at least one NUMA node, so returning NUMA node zero\n",
      "2022-03-22 16:06:11.461175: I tensorflow/stream_executor/cuda/cuda_gpu_executor.cc:937] successful NUMA node read from SysFS had negative value (-1), but there must be at least one NUMA node, so returning NUMA node zero\n",
      "2022-03-22 16:06:13.917292: I tensorflow/stream_executor/cuda/cuda_gpu_executor.cc:937] successful NUMA node read from SysFS had negative value (-1), but there must be at least one NUMA node, so returning NUMA node zero\n",
      "2022-03-22 16:06:13.918465: I tensorflow/stream_executor/cuda/cuda_gpu_executor.cc:937] successful NUMA node read from SysFS had negative value (-1), but there must be at least one NUMA node, so returning NUMA node zero\n",
      "2022-03-22 16:06:13.919771: I tensorflow/stream_executor/cuda/cuda_gpu_executor.cc:937] successful NUMA node read from SysFS had negative value (-1), but there must be at least one NUMA node, so returning NUMA node zero\n",
      "2022-03-22 16:06:13.920944: I tensorflow/core/common_runtime/gpu/gpu_device.cc:1510] Created device /job:localhost/replica:0/task:0/device:GPU:0 with 15403 MB memory:  -> device: 0, name: Tesla P100-PCIE-16GB, pci bus id: 0000:00:04.0, compute capability: 6.0\n"
     ]
    }
   ],
   "source": [
    "#CNN Based Model in Keras \n",
    "model =Sequential()\n",
    "\n",
    "model.add(Conv2D(32,kernel_size=(3,3),activation='relu',input_shape=(224,224,3))) #this a standard size for kernal size\n",
    "\n",
    "model.add(Conv2D(64,(3,3),activation='relu'))\n",
    "model.add(MaxPooling2D(pool_size=(2,2)))\n",
    "model.add(Dropout(.25))\n",
    "\n",
    "model.add(Conv2D(64,(3,3),activation='relu'))\n",
    "model.add(MaxPooling2D(pool_size=(2,2)))\n",
    "model.add(Dropout(.25))\n",
    "\n",
    "model.add(Conv2D(128,(3,3),activation='relu'))\n",
    "model.add(MaxPooling2D(pool_size=(2,2)))\n",
    "model.add(Dropout(.25))\n",
    "\n",
    "model.add(Flatten())\n",
    "\n",
    "model.add(Dense(64,activation= 'relu'))\n",
    "model.add(Dropout(0.5))\n",
    "\n",
    "model.add(Dense(1,activation='sigmoid'))\n",
    "\n",
    "model.compile(loss=keras.losses.binary_crossentropy, optimizer='adam',metrics=['accuracy'])"
   ]
  },
  {
   "cell_type": "code",
   "execution_count": 4,
   "id": "cf3b6322",
   "metadata": {
    "execution": {
     "iopub.execute_input": "2022-03-22T16:06:14.572506Z",
     "iopub.status.busy": "2022-03-22T16:06:14.571353Z",
     "iopub.status.idle": "2022-03-22T16:06:14.573862Z",
     "shell.execute_reply": "2022-03-22T16:06:14.574437Z",
     "shell.execute_reply.started": "2022-03-22T15:02:09.821104Z"
    },
    "papermill": {
     "duration": 0.019749,
     "end_time": "2022-03-22T16:06:14.574651",
     "exception": false,
     "start_time": "2022-03-22T16:06:14.554902",
     "status": "completed"
    },
    "tags": []
   },
   "outputs": [],
   "source": [
    "#Train from scratch #image pre prossessing\n",
    "train_datagen= image.ImageDataGenerator(\n",
    "    rescale=1./255,\n",
    "    shear_range=0.2,\n",
    "    zoom_range=0.2,\n",
    "    horizontal_flip=True,\n",
    "    validation_split=0.2,\n",
    ")\n",
    "\n",
    "test_dataset= image.ImageDataGenerator(rescale=1./255)"
   ]
  },
  {
   "cell_type": "code",
   "execution_count": 5,
   "id": "f398390c",
   "metadata": {
    "execution": {
     "iopub.execute_input": "2022-03-22T16:06:14.601314Z",
     "iopub.status.busy": "2022-03-22T16:06:14.600403Z",
     "iopub.status.idle": "2022-03-22T16:06:15.150716Z",
     "shell.execute_reply": "2022-03-22T16:06:15.150098Z",
     "shell.execute_reply.started": "2022-03-22T15:02:14.423144Z"
    },
    "papermill": {
     "duration": 0.566101,
     "end_time": "2022-03-22T16:06:15.150889",
     "exception": false,
     "start_time": "2022-03-22T16:06:14.584788",
     "status": "completed"
    },
    "tags": []
   },
   "outputs": [
    {
     "name": "stdout",
     "output_type": "stream",
     "text": [
      "Found 314 images belonging to 2 classes.\n"
     ]
    }
   ],
   "source": [
    "#BatchNormalizatoin Train Data\n",
    "train_generator= train_datagen.flow_from_directory(\n",
    "    '../input/xray-image-dataset-for-covid19-detection-a/Dataset_A',\n",
    "    target_size=(224,224), #Standard size, not too small, not too big \n",
    "    batch_size=32,\n",
    "    class_mode='binary',\n",
    "    color_mode=\"rgb\",\n",
    "    shuffle=True,\n",
    "    subset=\"training\",\n",
    "    \n",
    ")"
   ]
  },
  {
   "cell_type": "code",
   "execution_count": 6,
   "id": "188120ce",
   "metadata": {
    "execution": {
     "iopub.execute_input": "2022-03-22T16:06:15.180479Z",
     "iopub.status.busy": "2022-03-22T16:06:15.179154Z",
     "iopub.status.idle": "2022-03-22T16:06:15.286698Z",
     "shell.execute_reply": "2022-03-22T16:06:15.287291Z",
     "shell.execute_reply.started": "2022-03-22T15:02:18.480645Z"
    },
    "papermill": {
     "duration": 0.12582,
     "end_time": "2022-03-22T16:06:15.287501",
     "exception": false,
     "start_time": "2022-03-22T16:06:15.161681",
     "status": "completed"
    },
    "tags": []
   },
   "outputs": [
    {
     "name": "stdout",
     "output_type": "stream",
     "text": [
      "Found 78 images belonging to 2 classes.\n"
     ]
    }
   ],
   "source": [
    "#BatchNormalizatoin Validation Data\n",
    "val_generator= train_datagen.flow_from_directory(\n",
    "    '../input/xray-image-dataset-for-covid19-detection-a/Dataset_A',\n",
    "    target_size=(224,224), \n",
    "    batch_size=32,\n",
    "    class_mode='binary',\n",
    "    color_mode=\"rgb\",\n",
    "    shuffle=True,\n",
    "    subset=\"validation\",\n",
    "    \n",
    ")"
   ]
  },
  {
   "cell_type": "code",
   "execution_count": 7,
   "id": "5f58f54c",
   "metadata": {
    "execution": {
     "iopub.execute_input": "2022-03-22T16:06:15.318963Z",
     "iopub.status.busy": "2022-03-22T16:06:15.317616Z",
     "iopub.status.idle": "2022-03-22T16:09:29.185692Z",
     "shell.execute_reply": "2022-03-22T16:09:29.185038Z",
     "shell.execute_reply.started": "2022-03-22T15:02:21.842622Z"
    },
    "papermill": {
     "duration": 193.885972,
     "end_time": "2022-03-22T16:09:29.185865",
     "exception": false,
     "start_time": "2022-03-22T16:06:15.299893",
     "status": "completed"
    },
    "tags": []
   },
   "outputs": [
    {
     "name": "stderr",
     "output_type": "stream",
     "text": [
      "/opt/conda/lib/python3.7/site-packages/keras/engine/training.py:1972: UserWarning: `Model.fit_generator` is deprecated and will be removed in a future version. Please use `Model.fit`, which supports generators.\n",
      "  warnings.warn('`Model.fit_generator` is deprecated and '\n",
      "2022-03-22 16:06:17.580292: I tensorflow/compiler/mlir/mlir_graph_optimization_pass.cc:185] None of the MLIR Optimization Passes are enabled (registered 2)\n"
     ]
    },
    {
     "name": "stdout",
     "output_type": "stream",
     "text": [
      "Epoch 1/10\n"
     ]
    },
    {
     "name": "stderr",
     "output_type": "stream",
     "text": [
      "2022-03-22 16:06:21.373900: I tensorflow/stream_executor/cuda/cuda_dnn.cc:369] Loaded cuDNN version 8005\n"
     ]
    },
    {
     "name": "stdout",
     "output_type": "stream",
     "text": [
      "8/8 [==============================] - 26s 2s/step - loss: 1.1557 - accuracy: 0.5480 - val_loss: 0.6864 - val_accuracy: 0.8438\n",
      "Epoch 2/10\n",
      "8/8 [==============================] - 14s 2s/step - loss: 0.6398 - accuracy: 0.6600 - val_loss: 0.6270 - val_accuracy: 0.5156\n",
      "Epoch 3/10\n",
      "8/8 [==============================] - 14s 2s/step - loss: 0.4655 - accuracy: 0.7640 - val_loss: 0.3747 - val_accuracy: 0.9219\n",
      "Epoch 4/10\n",
      "8/8 [==============================] - 13s 2s/step - loss: 0.3643 - accuracy: 0.8640 - val_loss: 0.2405 - val_accuracy: 0.9531\n",
      "Epoch 5/10\n",
      "8/8 [==============================] - 14s 2s/step - loss: 0.2465 - accuracy: 0.9040 - val_loss: 0.1705 - val_accuracy: 0.9531\n",
      "Epoch 6/10\n",
      "8/8 [==============================] - 13s 2s/step - loss: 0.2416 - accuracy: 0.9160 - val_loss: 0.1714 - val_accuracy: 0.9688\n",
      "Epoch 7/10\n",
      "8/8 [==============================] - 13s 2s/step - loss: 0.2165 - accuracy: 0.9531 - val_loss: 0.1439 - val_accuracy: 0.9688\n",
      "Epoch 8/10\n",
      "8/8 [==============================] - 14s 2s/step - loss: 0.1867 - accuracy: 0.9480 - val_loss: 0.1383 - val_accuracy: 0.9844\n",
      "Epoch 9/10\n",
      "8/8 [==============================] - 13s 2s/step - loss: 0.1695 - accuracy: 0.9375 - val_loss: 0.0970 - val_accuracy: 1.0000\n",
      "Epoch 10/10\n",
      "8/8 [==============================] - 14s 2s/step - loss: 0.1998 - accuracy: 0.9520 - val_loss: 0.1086 - val_accuracy: 0.9531\n"
     ]
    }
   ],
   "source": [
    "hist= model.fit_generator(\n",
    "    train_generator,\n",
    "    steps_per_epoch=8,\n",
    "    epochs=10,\n",
    "    validation_data=val_generator,\n",
    "    validation_steps=2,\n",
    "    \n",
    ")"
   ]
  }
 ],
 "metadata": {
  "kernelspec": {
   "display_name": "Python 3",
   "language": "python",
   "name": "python3"
  },
  "language_info": {
   "codemirror_mode": {
    "name": "ipython",
    "version": 3
   },
   "file_extension": ".py",
   "mimetype": "text/x-python",
   "name": "python",
   "nbconvert_exporter": "python",
   "pygments_lexer": "ipython3",
   "version": "3.7.12"
  },
  "papermill": {
   "default_parameters": {},
   "duration": 219.893181,
   "end_time": "2022-03-22T16:09:32.906036",
   "environment_variables": {},
   "exception": null,
   "input_path": "__notebook__.ipynb",
   "output_path": "__notebook__.ipynb",
   "parameters": {},
   "start_time": "2022-03-22T16:05:53.012855",
   "version": "2.3.3"
  }
 },
 "nbformat": 4,
 "nbformat_minor": 5
}
